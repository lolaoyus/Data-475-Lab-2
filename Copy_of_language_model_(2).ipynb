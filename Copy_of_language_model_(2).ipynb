{
  "nbformat": 4,
  "nbformat_minor": 0,
  "metadata": {
    "colab": {
      "name": "Copy of language_model (2).ipynb",
      "provenance": [],
      "collapsed_sections": [],
      "include_colab_link": true
    },
    "kernelspec": {
      "name": "python3",
      "display_name": "Python 3"
    },
    "accelerator": "GPU"
  },
  "cells": [
    {
      "cell_type": "markdown",
      "metadata": {
        "id": "view-in-github",
        "colab_type": "text"
      },
      "source": [
        "<a href=\"https://colab.research.google.com/github/lolaoyus/Data-475-Lab-2/blob/master/Copy_of_language_model_(2).ipynb\" target=\"_parent\"><img src=\"https://colab.research.google.com/assets/colab-badge.svg\" alt=\"Open In Colab\"/></a>"
      ]
    },
    {
      "cell_type": "code",
      "metadata": {
        "id": "yTA7r-UtLIkk",
        "colab_type": "code",
        "colab": {
          "base_uri": "https://localhost:8080/",
          "height": 34
        },
        "outputId": "11826388-1cfd-4def-efd0-fd9f10cf44db"
      },
      "source": [
        "from google.colab import drive\n",
        "drive.mount('/content/drive')"
      ],
      "execution_count": null,
      "outputs": [
        {
          "output_type": "stream",
          "text": [
            "Drive already mounted at /content/drive; to attempt to forcibly remount, call drive.mount(\"/content/drive\", force_remount=True).\n"
          ],
          "name": "stdout"
        }
      ]
    },
    {
      "cell_type": "code",
      "metadata": {
        "id": "hgjoDE-OJRgI",
        "colab_type": "code",
        "colab": {}
      },
      "source": [
        "from fastai.text import *\n",
        "\n",
        "path = \"/content/drive/My Drive/DATA-475/imdb\""
      ],
      "execution_count": null,
      "outputs": []
    },
    {
      "cell_type": "code",
      "metadata": {
        "id": "Ng9a7n9kste4",
        "colab_type": "code",
        "colab": {
          "base_uri": "https://localhost:8080/",
          "height": 17
        },
        "outputId": "202ef857-dc1f-47c4-c705-a6452dd3720d"
      },
      "source": [
        "# create TextLMDataBunch using the csv in path\n",
        "#     remember to specify the text column\n",
        "data_lm = TextLMDataBunch.from_csv(\n",
        "    path,\n",
        "    \"train.csv\",\n",
        "    text_cols=\"review\"\n",
        ")"
      ],
      "execution_count": null,
      "outputs": [
        {
          "output_type": "display_data",
          "data": {
            "text/html": [
              ""
            ],
            "text/plain": [
              "<IPython.core.display.HTML object>"
            ]
          },
          "metadata": {
            "tags": []
          }
        },
        {
          "output_type": "display_data",
          "data": {
            "text/html": [
              ""
            ],
            "text/plain": [
              "<IPython.core.display.HTML object>"
            ]
          },
          "metadata": {
            "tags": []
          }
        }
      ]
    },
    {
      "cell_type": "code",
      "metadata": {
        "id": "NCVGVEOWsS_G",
        "colab_type": "code",
        "colab": {
          "base_uri": "https://localhost:8080/",
          "height": 17
        },
        "outputId": "c409085e-55c7-4986-c989-17af5a418c11"
      },
      "source": [
        "# create TextClasDataBunch using the csv in path\n",
        "#     remember to specify the text/label column\n",
        "#     specify test dataset, vocab, and bs\n",
        "data_clas = TextClasDataBunch.from_csv(\n",
        "    path,\n",
        "    \"train.csv\",\n",
        "    test=\"test.csv\",\n",
        "    text_cols=\"review\",\n",
        "    label_cols=\"sentiment\",\n",
        "    vocab=data_lm.train_ds.vocab,\n",
        "    bs=32,\n",
        ")"
      ],
      "execution_count": null,
      "outputs": [
        {
          "output_type": "display_data",
          "data": {
            "text/html": [
              ""
            ],
            "text/plain": [
              "<IPython.core.display.HTML object>"
            ]
          },
          "metadata": {
            "tags": []
          }
        },
        {
          "output_type": "display_data",
          "data": {
            "text/html": [
              ""
            ],
            "text/plain": [
              "<IPython.core.display.HTML object>"
            ]
          },
          "metadata": {
            "tags": []
          }
        },
        {
          "output_type": "display_data",
          "data": {
            "text/html": [
              ""
            ],
            "text/plain": [
              "<IPython.core.display.HTML object>"
            ]
          },
          "metadata": {
            "tags": []
          }
        }
      ]
    },
    {
      "cell_type": "code",
      "metadata": {
        "id": "WcrrDK7-aT0v",
        "colab_type": "code",
        "colab": {
          "base_uri": "https://localhost:8080/",
          "height": 34
        },
        "outputId": "f8cf61fa-da81-4745-f0b5-02ef84d1b174"
      },
      "source": [
        "# create language model learner with AWD_LSTM architecture and drop_mult of 0.5\n",
        "lm_learner = language_model_learner(data_lm, arch=AWD_LSTM, drop_mult=.5)"
      ],
      "execution_count": null,
      "outputs": [
        {
          "output_type": "stream",
          "text": [
            "Downloading https://s3.amazonaws.com/fast-ai-modelzoo/wt103-fwd.tgz\n"
          ],
          "name": "stdout"
        },
        {
          "output_type": "display_data",
          "data": {
            "text/html": [
              ""
            ],
            "text/plain": [
              "<IPython.core.display.HTML object>"
            ]
          },
          "metadata": {
            "tags": []
          }
        }
      ]
    },
    {
      "cell_type": "code",
      "metadata": {
        "id": "XnMFnhvZVM8k",
        "colab_type": "code",
        "colab": {
          "base_uri": "https://localhost:8080/",
          "height": 406
        },
        "outputId": "a0ab5bd9-0249-4cde-9479-de4207ab0819"
      },
      "source": [
        "# find a learing rate\n",
        "lm_learner.lr_find()\n",
        "lm_learner.recorder.plot(suggestion=True)"
      ],
      "execution_count": null,
      "outputs": [
        {
          "output_type": "display_data",
          "data": {
            "text/html": [
              "\n",
              "    <div>\n",
              "        <style>\n",
              "            /* Turns off some styling */\n",
              "            progress {\n",
              "                /* gets rid of default border in Firefox and Opera. */\n",
              "                border: none;\n",
              "                /* Needs to be in here for Safari polyfill so background images work as expected. */\n",
              "                background-size: auto;\n",
              "            }\n",
              "            .progress-bar-interrupted, .progress-bar-interrupted::-webkit-progress-bar {\n",
              "                background: #F44336;\n",
              "            }\n",
              "        </style>\n",
              "      <progress value='0' class='' max='1' style='width:300px; height:20px; vertical-align: middle;'></progress>\n",
              "      0.00% [0/1 00:00<00:00]\n",
              "    </div>\n",
              "    \n",
              "<table border=\"1\" class=\"dataframe\">\n",
              "  <thead>\n",
              "    <tr style=\"text-align: left;\">\n",
              "      <th>epoch</th>\n",
              "      <th>train_loss</th>\n",
              "      <th>valid_loss</th>\n",
              "      <th>accuracy</th>\n",
              "      <th>time</th>\n",
              "    </tr>\n",
              "  </thead>\n",
              "  <tbody>\n",
              "  </tbody>\n",
              "</table><p>\n",
              "\n",
              "    <div>\n",
              "        <style>\n",
              "            /* Turns off some styling */\n",
              "            progress {\n",
              "                /* gets rid of default border in Firefox and Opera. */\n",
              "                border: none;\n",
              "                /* Needs to be in here for Safari polyfill so background images work as expected. */\n",
              "                background-size: auto;\n",
              "            }\n",
              "            .progress-bar-interrupted, .progress-bar-interrupted::-webkit-progress-bar {\n",
              "                background: #F44336;\n",
              "            }\n",
              "        </style>\n",
              "      <progress value='99' class='' max='1334' style='width:300px; height:20px; vertical-align: middle;'></progress>\n",
              "      7.42% [99/1334 00:29<06:07 11.2636]\n",
              "    </div>\n",
              "    "
            ],
            "text/plain": [
              "<IPython.core.display.HTML object>"
            ]
          },
          "metadata": {
            "tags": []
          }
        },
        {
          "output_type": "stream",
          "text": [
            "LR Finder is complete, type {learner_name}.recorder.plot() to see the graph.\n",
            "Min numerical gradient: 6.31E-07\n",
            "Min loss divided by 10: 4.79E-03\n"
          ],
          "name": "stdout"
        },
        {
          "output_type": "display_data",
          "data": {
            "image/png": "[encoded data removed]",
            "text/plain": [
              "<Figure size 432x288 with 1 Axes>"
            ]
          },
          "metadata": {
            "tags": [],
            "needs_background": "light"
          }
        }
      ]
    },
    {
      "cell_type": "code",
      "metadata": {
        "id": "B9DZ8FALAw7r",
        "colab_type": "code",
        "colab": {
          "base_uri": "https://localhost:8080/",
          "height": 106
        },
        "outputId": "60803fd7-6230-497c-9abf-76f49b35d761"
      },
      "source": [
        "# fit one cycle\n",
        "lr = lm_learner.recorder.min_grad_lr\n",
        "lm_learner.fit_one_cycle(2, lr)"
      ],
      "execution_count": null,
      "outputs": [
        {
          "output_type": "display_data",
          "data": {
            "text/html": [
              "<table border=\"1\" class=\"dataframe\">\n",
              "  <thead>\n",
              "    <tr style=\"text-align: left;\">\n",
              "      <th>epoch</th>\n",
              "      <th>train_loss</th>\n",
              "      <th>valid_loss</th>\n",
              "      <th>accuracy</th>\n",
              "      <th>time</th>\n",
              "    </tr>\n",
              "  </thead>\n",
              "  <tbody>\n",
              "    <tr>\n",
              "      <td>0</td>\n",
              "      <td>4.705216</td>\n",
              "      <td>4.490042</td>\n",
              "      <td>0.262423</td>\n",
              "      <td>08:19</td>\n",
              "    </tr>\n",
              "    <tr>\n",
              "      <td>1</td>\n",
              "      <td>4.680327</td>\n",
              "      <td>4.488707</td>\n",
              "      <td>0.262536</td>\n",
              "      <td>08:27</td>\n",
              "    </tr>\n",
              "  </tbody>\n",
              "</table>"
            ],
            "text/plain": [
              "<IPython.core.display.HTML object>"
            ]
          },
          "metadata": {
            "tags": []
          }
        }
      ]
    },
    {
      "cell_type": "code",
      "metadata": {
        "id": "3ZIbQuXSKS5V",
        "colab_type": "code",
        "colab": {}
      },
      "source": [
        "# save the encoder\n",
        "lm_learner.save_encoder(\"model\")"
      ],
      "execution_count": null,
      "outputs": []
    },
    {
      "cell_type": "code",
      "metadata": {
        "id": "OFGrAyvQvXLH",
        "colab_type": "code",
        "colab": {
          "base_uri": "https://localhost:8080/",
          "height": 35
        },
        "outputId": "d787bde6-909c-439d-a493-5962b04c54fa"
      },
      "source": [
        "lm_learner.predict(\"this movie talks about Canadian\", n_words=20)"
      ],
      "execution_count": null,
      "outputs": [
        {
          "output_type": "execute_result",
          "data": {
            "application/vnd.google.colaboratory.intrinsic+json": {
              "type": "string"
            },
            "text/plain": [
              "'this movie talks about Canadian government employees going on the RMS Queen Elizabeth in Britain before it can be crossed with'"
            ]
          },
          "metadata": {
            "tags": []
          },
          "execution_count": 13
        }
      ]
    },
    {
      "cell_type": "code",
      "metadata": {
        "id": "p-Jv0yyyJWmN",
        "colab_type": "code",
        "colab": {
          "base_uri": "https://localhost:8080/",
          "height": 1000
        },
        "outputId": "4fc835b3-b058-41e9-a049-05dff602447d"
      },
      "source": [
        "clas_learner = text_classifier_learner(data_clas, arch=AWD_LSTM, drop_mult=0.5)\n",
        "clas_learner.load_encoder(\"model\")"
      ],
      "execution_count": null,
      "outputs": [
        {
          "output_type": "execute_result",
          "data": {
            "text/plain": [
              "RNNLearner(data=TextClasDataBunch;\n",
              "\n",
              "Train: LabelList (19999 items)\n",
              "x: TextList\n",
              "xxbos xxmaj before xxmaj nicholas xxmaj cage was a big action star , he was a great actor . xxmaj this lesser - known movie is where xxmaj cage gives one of his best performances . \" xxmaj red xxmaj rock xxmaj west \" was a low - budget , almost un - known film , but is one of my favorite movies of all time . i discovered it walking down the video store aisle , and wanted to see xxmaj cage and xxmaj hopper ( xxmaj who also is great in the movie ) appear together . xxmaj go get this one , and i 'm sure you wo n't be disappointed .,xxbos xxmaj this delectable fusion of xxmaj new xxmaj age babble and luridly bad film - making may not \" open \" you up , to borrow one of the film 's favorite xxunk , but it might leave your jaw slack and your belly sore from laughter or retching . xxmaj based on the best - selling book by xxmaj james xxmaj redfield , first ( self ) published in 1993 , this cornucopia of kitsch tracks the spiritual awakening of an xxmaj american history teacher ( xxmaj matthew xxmaj settle ) who , on traveling to deepest , darkest , phoniest xxmaj peru and sniffing either the air or something else more illegal . xxmaj namely what he discovers is a schlock xxmaj shangri xxmaj la populated by smiling zombies who may be nuts or just heavily medicated , perhaps because they 're often accompanied by a xxunk flourish and an occasional shout out from a celestial choir . xxmaj although there 's a lot of talk about \" energy , \" that quality is decidedly missing from the motley cast whose numbers include xxmaj thomas xxmaj kretschmann , xxmaj xxunk xxmaj gish , xxmaj hector xxmaj elizondo and xxmaj jurgen xxmaj prochnow , all of whom are now firmly ensconced in the camp pantheon . xxmaj for those who care , the plot involves the military , terrorists and the xxmaj roman xxmaj catholic xxmaj church ; xxmaj armand xxmaj mastroianni provided the inept direction while xxmaj mr. xxmaj redfield , xxmaj barnet xxmaj bain and xxmaj dan xxmaj gordon wrote the hoot of a script . xxmaj in short , easily the worst film seen in 40 + years of viewing movies .,xxbos xxmaj this was no xxmaj trainspotting or xxmaj guy xxmaj ritchie film . xxmaj it was a big wannabee . xxmaj it wanted to be an edgy , nervous - laughter , urban - life affirming film , but it 's more of a camera jerky , mess . xxmaj it 's a lot easier to imitate something else , than to create a real story with real characters . xxmaj from the beginning , i could n't care less about the characters or what they were involved in . xxmaj they were always always hitting , pissing , or crying on each other . xxmaj only , there was n't any substance to what they were doing . xxmaj the dialog between characters is meant to be hip , revealing , instead it comes out trite , and one scene after another is predictable . i know there are viewers out there that really liked this movie , so i could be wrong .,xxbos xxmaj though i really did n't feel anything for xxmaj lance 's character , and felt his wife could have done much better with anyone else . xxmaj it could have been a much stronger movie if they had spent more time on character development , perhaps with xxmaj xxunk i would have liked it better . xxmaj however , i have to completely agree with xxunk , when they said \" xxmaj and to quote xxmaj glenn xxmaj quinn 's character xxmaj ben : ' i 'm the star here in it , that 's right i 'm the talented one ! ' \" xxmaj if you watch the movie , just watch him , even when he 's in the background ... just his facial expressions , all in the eyes , you xxup know for sure what motivates xxmaj ben , exactly how he feels about comments , even if it 's a quick look behind a character 's back . xxmaj great acting in a fair film .,xxbos xxmaj those of the \" xxmaj instant xxmaj gratification \" era of horror films will no doubt complain about this film 's pace and lack of gratuitous effects and body count . xxmaj the fact is , \" xxmaj the xxmaj empty xxmaj acre \" is a good a example of how independent horror films should be done . xxmaj if you avoid the indie racks because you are tired of annoying teens or twenty somethings getting killed by some baddie whose back - story could have come off the back of a xxmaj count xxmaj xxunk box , \" xxmaj the xxmaj empty xxmaj acre \" is the movie for you . xxmaj set in the decaying remnants of the rural xxmaj american dream , \" xxmaj the xxmaj empty xxmaj acre \" is the tale of a young couple struggling with the disappearance of their six - month - old baby . xxmaj as the couple 's weak relationship falls apart , a larger story plays out in the background . xxmaj at night , a shapeless dark mass xxunk from a sun baked barren acre on their farm and seemingly devours anything in its path , leaving no sign that it was ever there . xxmaj the film is loaded with enigmatic characters and visual clues as to what is happening , and ends with a well executed ending that resonates with just enough left over questions to validate the writer / director 's faith in an intellectual audience . xxmaj there seems to be a sub - text concerning the death of the xxmaj american dream , but i would hardly call the film an allegory . xxmaj riveting , well acted , and technically astute , \" xxmaj the xxmaj empty xxmaj acre \" is a fantastic little indie that thinking horror fans should love .\n",
              "y: CategoryList\n",
              "positive,negative,negative,positive,positive\n",
              "Path: /content/drive/My Drive/DATA-475/imdb;\n",
              "\n",
              "Valid: LabelList (5001 items)\n",
              "x: TextList\n",
              "xxbos ... and even then , even they can live without seeing it . xxmaj to be honest , this film ( if one xxunk to call it that ) is of real interest only to bondage freaks . xxmaj bettie xxmaj page fans will learn absolutely nothing new ( and i do mean * nothing * ) , nor will they enjoy the warm fuzzies of experiencing anything familiar , loved , or cherished . xxmaj nevermind the abysmal screenplay , the wooden , less - than - community - theater acting , the utter absence of direction , the crappy lighting , or any of the rest of the bargain basement production values . xxmaj this is definitely \" xxmaj hey , kids , let 's make a movie ! \" movie - making of the lowest order . i suppose one could be thankful that at least they knew how to run the camera . xxmaj no , i 'm sorry to say that none of that is germane to why this thing is so outright * xxunk 's wrong because the young lady playing xxmaj bettie xxmaj page , a somewhat zaftig girl whose only resemblance to the xxmaj queen of xxmaj curves is dark hair and the trademark bangs , utterly fails to bring anything to the role beyond a willingness to be bound and gagged . xxmaj this is apparently a good thing for her film career before and since this wretched excess , but not for the wretched excess itself , which consists primarily of a number of lovingly re - enacted xxup b&d set - pieces sandwiched between horrendously awful faux - biographical scenes delineating xxmaj ms. xxmaj page 's fall from grace ( so to speak ) . xxmaj there 's actually probably more information , per se , about xxmaj page 's life in the opening and closing credits than the rest of the movie . xxmaj do not be fooled . xxmaj this is not a worthy companion film to \" xxmaj the xxmaj notorious xxmaj bettie xxmaj page . \" xxmaj this is not a worthy film at all . xxmaj this is a fetish piece that trades on the allure of one of the greatest pin - ups of all time , and does it without class , without style , and without any real sense of understanding the character of xxmaj bettie xxmaj page whatsoever . xxmaj no true xxmaj bettie xxmaj page fan will find it to be anything but a disappointment , i guarantee that . xxmaj avoid at all costs . xxmaj if free , remember that time is money , too . xxmaj yours may not be worth much , but i 'm betting it 's worth enough that you 'll be sorry you wasted time with this one . xxmaj that 's it , i 'm done , you 've been warned .,xxbos xxmaj this ensemble piece about adults who return to the xxunk xxmaj summer camp of their youth was a very quiet xxunk and xxunk to the cinemas in the xxmaj autumn of 1993 . i 'd say that was a shame , but then again , some of the better movies xxup are quiet releases that do n't get much hype or praise . xxmaj diane lane , xxmaj kevin xxmaj pollack , xxmaj elizabeth xxmaj perkins , xxmaj vincent xxmaj spano , xxmaj julie xxmaj warner , xxmaj bill xxmaj paxton , xxmaj kimberly xxmaj williams , xxmaj matt xxmaj craven and xxmaj alan xxmaj xxunk is painfully good here ) are the group of actors who flesh out these roles as people who have grown old with good , bad and funny memories of summers gone past . xxmaj this film covers the gambit of emotions , mostly pleasant , and the film never hammers away at the viewer to feel what the characters are feeling , preferring to allow the viewer to enter into the memories on their own . xxmaj since i am a movie viewer who bristles at bluntly , brazen manipulation in films , this is something that i appreciate from writer / director xxmaj mike xxmaj binder . xxmaj this film 's a great cheap rent , a good main rent and even a pretty sit in a theater flick . xxmaj you might run across this on xxup tv , and i would definitely suggest a look - see .,xxbos xxmaj story of a good - for - nothing poet and a sidekick singer who puts his words to music . xxmaj director xxmaj danny xxmaj boyle has lost none of his predilection for raking in the gutter of humanity for characters but he has lost , in this film , the edge for creating inspiring and funny films . xxmaj strumpet is painful to watch and barely justified by the fact that it was made for xxup tv .,xxbos i 'm not a stage purist . a movie could have been made of this play , and it would almost necessarily require changes ... comme ci , comme ca . xxmaj but the modest conceits of this material are lost or misunderstood by the movie 's creators who are in full - on \" shallow blockbuster \" mode . xxmaj it would be hard to imagine a worse director . xxmaj perhaps only xxmaj josh xxmaj logan & xxmaj jack xxmaj warner could have ruined this in the same way xxmaj attenborough did . xxmaj onstage a xxmaj chorus line was a triumph of xxunk as a production method . xxmaj dancers answering a casting call found themselves sitting around shooting the crap about their stage - career experiences ( very 70s ! ) . xxmaj then xxmaj bennett and xxmaj hamlisch took some time , handed them a song and cast them as themselves . ... astonishing ! xxmaj unbelievably modern . xxmaj the ' xxunk xxup acl is ( in turn ) about answering a casting call for a play we never have a complete view of , because the play does n't matter . xxmaj it was meta before the idea was invented , 25 years before xxmaj adaptation xxunk with a similar idea . xxup acl was also another in a xxunk trend that is still alive , & which is a hallmark of modern creativity : that technique itself is compelling ... that there 's more drama in an average person 's life than you could ever synthesize with invented characters . xxmaj what a gracious idea . xxmaj the stage play had one performance area ( an empty stage ) and three different ways to alter the backdrop , to alleviate visual tedium , not to keep viewers distracted . xxmaj the space xxunk and the actors stories are xxunk . xxmaj it worked just fine . xxmaj that was the point . xxmaj all these ideas are trampled or bastardized . xxmaj set - wise , there was n't one , and no costumes either until the the dancers came out for their final bows , in which the exhilarating \" xxmaj one \" is finally , powerfully , performed in full ( gold ) top hats and tails , with moves we recognize because we 've watched them in practice sessions . xxmaj the pent - up anxiety of the play is released --- and audiences went nuts . xxmaj after xxmaj grampa manhandles this , it 's like a mushed , strangled bird . xxmaj he clearly has the earlier , respected xxmaj all that xxmaj jazz ( and xxmaj fosse 's stage piece xxmaj dancin ' ) in mind as he makes his choices . xxmaj hamlisch 's score was edgy & interesting for it 's time , but time has not been kind to it . xxmaj it 's as schmaltzy as \" jazz hands . \" xxmaj and that 's before xxmaj attenborough ever touches it . xxmaj he 's remarkable at finding whatever good was left , and xxunk it . a simple question might have helped xxmaj attenborough while filming this , \" xxmaj could i bear spending even a few minutes with people like these ? \" a major issue for any adaptation of the play is how the 4th wall of theater ( pivotal by it 's absence in theater ) would be addressed in the film format . xxmaj there 's never been a more \" frontal \" play . xxmaj the answer they came up with was , \" i 'm sorry .. what was the question ? \" xxmaj the cast has been augmented from a manageable number of unique narratives , to a crowd suffocating each other and the audience , and blending their grating selves together . i was well past my annoyance threshold when that annoying little runt swings across the stage on a rope , clowning at the ( absent ) audience . xxmaj the play made you understand theater people . xxmaj this movie just makes you want to choke them . xxmaj perhaps xxmaj xxunk annoying trend of characters walking directly to stage center and singing their stories at the audience ( xxmaj les xxmaj miz , xxmaj miss xxmaj saigon ) instead of relating to other characters started here . xxmaj but the worst imaginable revival of the play will make you feel more alive than this movie . a xxmaj chorus xxmaj line is pure schlock .,xxbos xxmaj mirage ( 1990 ) is a very rare horror / chiller from 1990 , released here in the xxup uk on the \" xxmaj new xxmaj world xxmaj video \" label . xxmaj it 's a desert based horror film about a group of young friends who are partying for the weekend , only to be killed off one by one by an unknown force who drives a menacing black truck ! ! ! xxmaj this film has some creepy scenes , and some gore here and there , but i have to say that the acting was so lame , even by low budget standards ! xxmaj but the film was oddly addictive and i liked it , and i never fell asleep or turned it off , which is always a good sign ! i nearly gave this movie 6 / 10 , but seeing as it built up steam along the way , had some good moments of gore and suspense , had some good nudity , and the fact that the blonde in the main female role was a hottie too ! i 'll give it 7 / 10 .\n",
              "y: CategoryList\n",
              "negative,positive,negative,negative,positive\n",
              "Path: /content/drive/My Drive/DATA-475/imdb;\n",
              "\n",
              "Test: LabelList (25000 items)\n",
              "x: TextList\n",
              "xxbos i went and saw this movie last night after being coaxed to by a few friends of mine . i 'll admit that i was reluctant to see it because from what i knew of xxmaj ashton xxmaj kutcher he was only able to do comedy . i was wrong . xxmaj kutcher played the character of xxmaj jake xxmaj fischer very well , and xxmaj kevin xxmaj costner played xxmaj ben xxmaj randall with such professionalism . xxmaj the sign of a good movie is that it can toy with our emotions . xxmaj this one did exactly that . xxmaj the entire theater ( which was sold out ) was overcome by laughter during the first half of the movie , and were moved to tears during the second half . xxmaj while exiting the theater i not only saw many women in tears , but many full grown men as well , trying desperately not to let anyone see them crying . xxmaj this movie was great , and i suggest that you go see it before you judge .,xxbos xxmaj actor turned director xxmaj bill xxmaj paxton follows up his promising debut , the xxmaj gothic - horror \" xxmaj frailty \" , with this family friendly sports drama about the 1913 xxup u.s. xxmaj open where a young xxmaj american caddy rises from his humble background to play against his xxmaj xxunk idol in what was dubbed as \" xxmaj the xxmaj greatest xxmaj game xxmaj ever xxmaj played . \" i 'm no fan of golf , and these scrappy underdog sports flicks are a dime a dozen ( most recently done to grand effect with \" xxmaj miracle \" and \" xxmaj cinderella xxmaj man \" ) , but some how this film was enthralling all the same . xxmaj the film starts with some creative opening credits ( imagine a xxmaj xxunk version of the animated opening credits of xxup hbo 's \" xxmaj xxunk \" and \" xxmaj rome \" ) , but lumbers along slowly for its first by - the - numbers hour . xxmaj once the action moves to the xxup u.s. xxmaj open things pick up very well . xxmaj paxton does a nice job and shows a knack for effective directorial flourishes ( i loved the rain - soaked montage of the action on day two of the open ) that propel the plot further or add some unexpected psychological depth to the proceedings . xxmaj there 's some compelling character development when the xxmaj british xxmaj harry xxmaj xxunk is haunted by images of the aristocrats in black suits and top hats who destroyed his family cottage as a child to make way for a golf course . xxmaj he also does a good job of visually depicting what goes on in the players ' heads under pressure . xxmaj golf , a painfully boring sport , is brought vividly alive here . xxmaj credit should also be given the set designers and costume department for creating an engaging period - piece atmosphere of xxmaj london and xxmaj boston at the beginning of the twentieth century . xxmaj you know how this is going to end not only because it 's based on a true story but also because films in this genre follow the same template over and over , but xxmaj paxton puts on a better than average show and perhaps indicates more talent behind the camera than he ever had in front of it . xxmaj despite the formulaic nature , this is a nice and easy film to root for that deserves to find an audience .,xxbos xxmaj as a recreational golfer with some knowledge of the sport 's history , i was pleased with xxmaj disney 's sensitivity to the issues of class in golf in the early twentieth century . xxmaj the movie depicted well the psychological battles that xxmaj harry xxmaj xxunk fought within himself , from his childhood trauma of being evicted to his own inability to break that glass ceiling that prevents him from being accepted as an equal in xxmaj english golf society . xxmaj likewise , the young xxmaj xxunk goes through his own class struggles , being a mere caddie in the eyes of the upper crust xxmaj americans who scoff at his attempts to rise above his standing . xxmaj what i loved best , however , is how this theme of class is manifested in the characters of xxmaj xxunk 's parents . xxmaj his father is a working - class drone who sees the value of hard work but is intimidated by the upper class ; his mother , however , recognizes her son 's talent and desire and encourages him to pursue his dream of competing against those who think he is inferior . xxmaj finally , the golf scenes are well photographed . xxmaj although the course used in the movie was not the actual site of the historical tournament , the little liberties taken by xxmaj disney do not detract from the beauty of the film . xxmaj there 's one little xxmaj disney moment at the pool table ; otherwise , the viewer does not really think xxmaj disney . xxmaj the ending , as in \" xxmaj miracle , \" is not some xxmaj disney creation , but one that only human history could have written .,xxbos i saw this film in a sneak preview , and it is delightful . xxmaj the cinematography is unusually creative , the acting is good , and the story is fabulous . xxmaj if this movie does not do well , it wo n't be because it does n't deserve to . xxmaj before this film , i did n't realize how charming xxmaj shia xxmaj xxunk could be . xxmaj he does a marvelous , self - contained , job as the lead . xxmaj there 's something incredibly sweet about him , and it makes the movie even better . xxmaj the other actors do a good job as well , and the film contains moments of really high suspense , more than one might expect from a movie about golf . xxmaj sports movies are a dime a dozen , but this one stands out . xxmaj this is one i 'd recommend to anyone .,xxbos xxmaj bill xxmaj paxton has taken the true story of the 1913 xxup us golf open and made a film that is about much more than an extra - ordinary game of golf . xxmaj the film also deals directly with the class tensions of the early twentieth century and touches upon the profound anti - xxmaj catholic prejudices of both the xxmaj british and xxmaj american establishments . xxmaj but at heart the film is about that perennial favourite of triumph against the odds . xxmaj the acting is exemplary throughout . xxmaj stephen xxmaj xxunk is excellent as usual , but the revelation of the movie is xxmaj shia xxunk who delivers a disciplined , dignified and highly sympathetic performance as a working class xxmaj franco - xxmaj irish kid fighting his way through the prejudices of the xxmaj new xxmaj england xxup wasp establishment . xxmaj for those who are only familiar with his slap - stick performances in \" xxmaj even xxmaj stevens \" this demonstration of his maturity is a delightful surprise . xxmaj and xxmaj josh xxmaj flitter as the ten year old caddy threatens to steal every scene in which he appears . a old fashioned movie in the best sense of the word : fine acting , clear directing and a great story that grips to the end - the final scene an affectionate nod to xxmaj casablanca is just one of the many pleasures that fill a great movie .\n",
              "y: EmptyLabelList\n",
              ",,,,\n",
              "Path: /content/drive/My Drive/DATA-475/imdb, model=SequentialRNN(\n",
              "  (0): MultiBatchEncoder(\n",
              "    (module): AWD_LSTM(\n",
              "      (encoder): Embedding(44072, 400, padding_idx=1)\n",
              "      (encoder_dp): EmbeddingDropout(\n",
              "        (emb): Embedding(44072, 400, padding_idx=1)\n",
              "      )\n",
              "      (rnns): ModuleList(\n",
              "        (0): WeightDropout(\n",
              "          (module): LSTM(400, 1152, batch_first=True)\n",
              "        )\n",
              "        (1): WeightDropout(\n",
              "          (module): LSTM(1152, 1152, batch_first=True)\n",
              "        )\n",
              "        (2): WeightDropout(\n",
              "          (module): LSTM(1152, 400, batch_first=True)\n",
              "        )\n",
              "      )\n",
              "      (input_dp): RNNDropout()\n",
              "      (hidden_dps): ModuleList(\n",
              "        (0): RNNDropout()\n",
              "        (1): RNNDropout()\n",
              "        (2): RNNDropout()\n",
              "      )\n",
              "    )\n",
              "  )\n",
              "  (1): PoolingLinearClassifier(\n",
              "    (layers): Sequential(\n",
              "      (0): BatchNorm1d(1200, eps=1e-05, momentum=0.1, affine=True, track_running_stats=True)\n",
              "      (1): Dropout(p=0.2, inplace=False)\n",
              "      (2): Linear(in_features=1200, out_features=50, bias=True)\n",
              "      (3): ReLU(inplace=True)\n",
              "      (4): BatchNorm1d(50, eps=1e-05, momentum=0.1, affine=True, track_running_stats=True)\n",
              "      (5): Dropout(p=0.1, inplace=False)\n",
              "      (6): Linear(in_features=50, out_features=2, bias=True)\n",
              "    )\n",
              "  )\n",
              "), opt_func=functools.partial(<class 'torch.optim.adam.Adam'>, betas=(0.9, 0.99)), loss_func=FlattenedLoss of CrossEntropyLoss(), metrics=[<function accuracy at 0x7f50ff7e0840>], true_wd=True, bn_wd=True, wd=0.01, train_bn=True, path=PosixPath('/content/drive/My Drive/DATA-475/imdb'), model_dir='models', callback_fns=[functools.partial(<class 'fastai.basic_train.Recorder'>, add_time=True, silent=False)], callbacks=[RNNTrainer\n",
              "learn: RNNLearner(data=TextClasDataBunch;\n",
              "\n",
              "Train: LabelList (19999 items)\n",
              "x: TextList\n",
              "xxbos xxmaj before xxmaj nicholas xxmaj cage was a big action star , he was a great actor . xxmaj this lesser - known movie is where xxmaj cage gives one of his best performances . \" xxmaj red xxmaj rock xxmaj west \" was a low - budget , almost un - known film , but is one of my favorite movies of all time . i discovered it walking down the video store aisle , and wanted to see xxmaj cage and xxmaj hopper ( xxmaj who also is great in the movie ) appear together . xxmaj go get this one , and i 'm sure you wo n't be disappointed .,xxbos xxmaj this delectable fusion of xxmaj new xxmaj age babble and luridly bad film - making may not \" open \" you up , to borrow one of the film 's favorite xxunk , but it might leave your jaw slack and your belly sore from laughter or retching . xxmaj based on the best - selling book by xxmaj james xxmaj redfield , first ( self ) published in 1993 , this cornucopia of kitsch tracks the spiritual awakening of an xxmaj american history teacher ( xxmaj matthew xxmaj settle ) who , on traveling to deepest , darkest , phoniest xxmaj peru and sniffing either the air or something else more illegal . xxmaj namely what he discovers is a schlock xxmaj shangri xxmaj la populated by smiling zombies who may be nuts or just heavily medicated , perhaps because they 're often accompanied by a xxunk flourish and an occasional shout out from a celestial choir . xxmaj although there 's a lot of talk about \" energy , \" that quality is decidedly missing from the motley cast whose numbers include xxmaj thomas xxmaj kretschmann , xxmaj xxunk xxmaj gish , xxmaj hector xxmaj elizondo and xxmaj jurgen xxmaj prochnow , all of whom are now firmly ensconced in the camp pantheon . xxmaj for those who care , the plot involves the military , terrorists and the xxmaj roman xxmaj catholic xxmaj church ; xxmaj armand xxmaj mastroianni provided the inept direction while xxmaj mr. xxmaj redfield , xxmaj barnet xxmaj bain and xxmaj dan xxmaj gordon wrote the hoot of a script . xxmaj in short , easily the worst film seen in 40 + years of viewing movies .,xxbos xxmaj this was no xxmaj trainspotting or xxmaj guy xxmaj ritchie film . xxmaj it was a big wannabee . xxmaj it wanted to be an edgy , nervous - laughter , urban - life affirming film , but it 's more of a camera jerky , mess . xxmaj it 's a lot easier to imitate something else , than to create a real story with real characters . xxmaj from the beginning , i could n't care less about the characters or what they were involved in . xxmaj they were always always hitting , pissing , or crying on each other . xxmaj only , there was n't any substance to what they were doing . xxmaj the dialog between characters is meant to be hip , revealing , instead it comes out trite , and one scene after another is predictable . i know there are viewers out there that really liked this movie , so i could be wrong .,xxbos xxmaj though i really did n't feel anything for xxmaj lance 's character , and felt his wife could have done much better with anyone else . xxmaj it could have been a much stronger movie if they had spent more time on character development , perhaps with xxmaj xxunk i would have liked it better . xxmaj however , i have to completely agree with xxunk , when they said \" xxmaj and to quote xxmaj glenn xxmaj quinn 's character xxmaj ben : ' i 'm the star here in it , that 's right i 'm the talented one ! ' \" xxmaj if you watch the movie , just watch him , even when he 's in the background ... just his facial expressions , all in the eyes , you xxup know for sure what motivates xxmaj ben , exactly how he feels about comments , even if it 's a quick look behind a character 's back . xxmaj great acting in a fair film .,xxbos xxmaj those of the \" xxmaj instant xxmaj gratification \" era of horror films will no doubt complain about this film 's pace and lack of gratuitous effects and body count . xxmaj the fact is , \" xxmaj the xxmaj empty xxmaj acre \" is a good a example of how independent horror films should be done . xxmaj if you avoid the indie racks because you are tired of annoying teens or twenty somethings getting killed by some baddie whose back - story could have come off the back of a xxmaj count xxmaj xxunk box , \" xxmaj the xxmaj empty xxmaj acre \" is the movie for you . xxmaj set in the decaying remnants of the rural xxmaj american dream , \" xxmaj the xxmaj empty xxmaj acre \" is the tale of a young couple struggling with the disappearance of their six - month - old baby . xxmaj as the couple 's weak relationship falls apart , a larger story plays out in the background . xxmaj at night , a shapeless dark mass xxunk from a sun baked barren acre on their farm and seemingly devours anything in its path , leaving no sign that it was ever there . xxmaj the film is loaded with enigmatic characters and visual clues as to what is happening , and ends with a well executed ending that resonates with just enough left over questions to validate the writer / director 's faith in an intellectual audience . xxmaj there seems to be a sub - text concerning the death of the xxmaj american dream , but i would hardly call the film an allegory . xxmaj riveting , well acted , and technically astute , \" xxmaj the xxmaj empty xxmaj acre \" is a fantastic little indie that thinking horror fans should love .\n",
              "y: CategoryList\n",
              "positive,negative,negative,positive,positive\n",
              "Path: /content/drive/My Drive/DATA-475/imdb;\n",
              "\n",
              "Valid: LabelList (5001 items)\n",
              "x: TextList\n",
              "xxbos ... and even then , even they can live without seeing it . xxmaj to be honest , this film ( if one xxunk to call it that ) is of real interest only to bondage freaks . xxmaj bettie xxmaj page fans will learn absolutely nothing new ( and i do mean * nothing * ) , nor will they enjoy the warm fuzzies of experiencing anything familiar , loved , or cherished . xxmaj nevermind the abysmal screenplay , the wooden , less - than - community - theater acting , the utter absence of direction , the crappy lighting , or any of the rest of the bargain basement production values . xxmaj this is definitely \" xxmaj hey , kids , let 's make a movie ! \" movie - making of the lowest order . i suppose one could be thankful that at least they knew how to run the camera . xxmaj no , i 'm sorry to say that none of that is germane to why this thing is so outright * xxunk 's wrong because the young lady playing xxmaj bettie xxmaj page , a somewhat zaftig girl whose only resemblance to the xxmaj queen of xxmaj curves is dark hair and the trademark bangs , utterly fails to bring anything to the role beyond a willingness to be bound and gagged . xxmaj this is apparently a good thing for her film career before and since this wretched excess , but not for the wretched excess itself , which consists primarily of a number of lovingly re - enacted xxup b&d set - pieces sandwiched between horrendously awful faux - biographical scenes delineating xxmaj ms. xxmaj page 's fall from grace ( so to speak ) . xxmaj there 's actually probably more information , per se , about xxmaj page 's life in the opening and closing credits than the rest of the movie . xxmaj do not be fooled . xxmaj this is not a worthy companion film to \" xxmaj the xxmaj notorious xxmaj bettie xxmaj page . \" xxmaj this is not a worthy film at all . xxmaj this is a fetish piece that trades on the allure of one of the greatest pin - ups of all time , and does it without class , without style , and without any real sense of understanding the character of xxmaj bettie xxmaj page whatsoever . xxmaj no true xxmaj bettie xxmaj page fan will find it to be anything but a disappointment , i guarantee that . xxmaj avoid at all costs . xxmaj if free , remember that time is money , too . xxmaj yours may not be worth much , but i 'm betting it 's worth enough that you 'll be sorry you wasted time with this one . xxmaj that 's it , i 'm done , you 've been warned .,xxbos xxmaj this ensemble piece about adults who return to the xxunk xxmaj summer camp of their youth was a very quiet xxunk and xxunk to the cinemas in the xxmaj autumn of 1993 . i 'd say that was a shame , but then again , some of the better movies xxup are quiet releases that do n't get much hype or praise . xxmaj diane lane , xxmaj kevin xxmaj pollack , xxmaj elizabeth xxmaj perkins , xxmaj vincent xxmaj spano , xxmaj julie xxmaj warner , xxmaj bill xxmaj paxton , xxmaj kimberly xxmaj williams , xxmaj matt xxmaj craven and xxmaj alan xxmaj xxunk is painfully good here ) are the group of actors who flesh out these roles as people who have grown old with good , bad and funny memories of summers gone past . xxmaj this film covers the gambit of emotions , mostly pleasant , and the film never hammers away at the viewer to feel what the characters are feeling , preferring to allow the viewer to enter into the memories on their own . xxmaj since i am a movie viewer who bristles at bluntly , brazen manipulation in films , this is something that i appreciate from writer / director xxmaj mike xxmaj binder . xxmaj this film 's a great cheap rent , a good main rent and even a pretty sit in a theater flick . xxmaj you might run across this on xxup tv , and i would definitely suggest a look - see .,xxbos xxmaj story of a good - for - nothing poet and a sidekick singer who puts his words to music . xxmaj director xxmaj danny xxmaj boyle has lost none of his predilection for raking in the gutter of humanity for characters but he has lost , in this film , the edge for creating inspiring and funny films . xxmaj strumpet is painful to watch and barely justified by the fact that it was made for xxup tv .,xxbos i 'm not a stage purist . a movie could have been made of this play , and it would almost necessarily require changes ... comme ci , comme ca . xxmaj but the modest conceits of this material are lost or misunderstood by the movie 's creators who are in full - on \" shallow blockbuster \" mode . xxmaj it would be hard to imagine a worse director . xxmaj perhaps only xxmaj josh xxmaj logan & xxmaj jack xxmaj warner could have ruined this in the same way xxmaj attenborough did . xxmaj onstage a xxmaj chorus line was a triumph of xxunk as a production method . xxmaj dancers answering a casting call found themselves sitting around shooting the crap about their stage - career experiences ( very 70s ! ) . xxmaj then xxmaj bennett and xxmaj hamlisch took some time , handed them a song and cast them as themselves . ... astonishing ! xxmaj unbelievably modern . xxmaj the ' xxunk xxup acl is ( in turn ) about answering a casting call for a play we never have a complete view of , because the play does n't matter . xxmaj it was meta before the idea was invented , 25 years before xxmaj adaptation xxunk with a similar idea . xxup acl was also another in a xxunk trend that is still alive , & which is a hallmark of modern creativity : that technique itself is compelling ... that there 's more drama in an average person 's life than you could ever synthesize with invented characters . xxmaj what a gracious idea . xxmaj the stage play had one performance area ( an empty stage ) and three different ways to alter the backdrop , to alleviate visual tedium , not to keep viewers distracted . xxmaj the space xxunk and the actors stories are xxunk . xxmaj it worked just fine . xxmaj that was the point . xxmaj all these ideas are trampled or bastardized . xxmaj set - wise , there was n't one , and no costumes either until the the dancers came out for their final bows , in which the exhilarating \" xxmaj one \" is finally , powerfully , performed in full ( gold ) top hats and tails , with moves we recognize because we 've watched them in practice sessions . xxmaj the pent - up anxiety of the play is released --- and audiences went nuts . xxmaj after xxmaj grampa manhandles this , it 's like a mushed , strangled bird . xxmaj he clearly has the earlier , respected xxmaj all that xxmaj jazz ( and xxmaj fosse 's stage piece xxmaj dancin ' ) in mind as he makes his choices . xxmaj hamlisch 's score was edgy & interesting for it 's time , but time has not been kind to it . xxmaj it 's as schmaltzy as \" jazz hands . \" xxmaj and that 's before xxmaj attenborough ever touches it . xxmaj he 's remarkable at finding whatever good was left , and xxunk it . a simple question might have helped xxmaj attenborough while filming this , \" xxmaj could i bear spending even a few minutes with people like these ? \" a major issue for any adaptation of the play is how the 4th wall of theater ( pivotal by it 's absence in theater ) would be addressed in the film format . xxmaj there 's never been a more \" frontal \" play . xxmaj the answer they came up with was , \" i 'm sorry .. what was the question ? \" xxmaj the cast has been augmented from a manageable number of unique narratives , to a crowd suffocating each other and the audience , and blending their grating selves together . i was well past my annoyance threshold when that annoying little runt swings across the stage on a rope , clowning at the ( absent ) audience . xxmaj the play made you understand theater people . xxmaj this movie just makes you want to choke them . xxmaj perhaps xxmaj xxunk annoying trend of characters walking directly to stage center and singing their stories at the audience ( xxmaj les xxmaj miz , xxmaj miss xxmaj saigon ) instead of relating to other characters started here . xxmaj but the worst imaginable revival of the play will make you feel more alive than this movie . a xxmaj chorus xxmaj line is pure schlock .,xxbos xxmaj mirage ( 1990 ) is a very rare horror / chiller from 1990 , released here in the xxup uk on the \" xxmaj new xxmaj world xxmaj video \" label . xxmaj it 's a desert based horror film about a group of young friends who are partying for the weekend , only to be killed off one by one by an unknown force who drives a menacing black truck ! ! ! xxmaj this film has some creepy scenes , and some gore here and there , but i have to say that the acting was so lame , even by low budget standards ! xxmaj but the film was oddly addictive and i liked it , and i never fell asleep or turned it off , which is always a good sign ! i nearly gave this movie 6 / 10 , but seeing as it built up steam along the way , had some good moments of gore and suspense , had some good nudity , and the fact that the blonde in the main female role was a hottie too ! i 'll give it 7 / 10 .\n",
              "y: CategoryList\n",
              "negative,positive,negative,negative,positive\n",
              "Path: /content/drive/My Drive/DATA-475/imdb;\n",
              "\n",
              "Test: LabelList (25000 items)\n",
              "x: TextList\n",
              "xxbos i went and saw this movie last night after being coaxed to by a few friends of mine . i 'll admit that i was reluctant to see it because from what i knew of xxmaj ashton xxmaj kutcher he was only able to do comedy . i was wrong . xxmaj kutcher played the character of xxmaj jake xxmaj fischer very well , and xxmaj kevin xxmaj costner played xxmaj ben xxmaj randall with such professionalism . xxmaj the sign of a good movie is that it can toy with our emotions . xxmaj this one did exactly that . xxmaj the entire theater ( which was sold out ) was overcome by laughter during the first half of the movie , and were moved to tears during the second half . xxmaj while exiting the theater i not only saw many women in tears , but many full grown men as well , trying desperately not to let anyone see them crying . xxmaj this movie was great , and i suggest that you go see it before you judge .,xxbos xxmaj actor turned director xxmaj bill xxmaj paxton follows up his promising debut , the xxmaj gothic - horror \" xxmaj frailty \" , with this family friendly sports drama about the 1913 xxup u.s. xxmaj open where a young xxmaj american caddy rises from his humble background to play against his xxmaj xxunk idol in what was dubbed as \" xxmaj the xxmaj greatest xxmaj game xxmaj ever xxmaj played . \" i 'm no fan of golf , and these scrappy underdog sports flicks are a dime a dozen ( most recently done to grand effect with \" xxmaj miracle \" and \" xxmaj cinderella xxmaj man \" ) , but some how this film was enthralling all the same . xxmaj the film starts with some creative opening credits ( imagine a xxmaj xxunk version of the animated opening credits of xxup hbo 's \" xxmaj xxunk \" and \" xxmaj rome \" ) , but lumbers along slowly for its first by - the - numbers hour . xxmaj once the action moves to the xxup u.s. xxmaj open things pick up very well . xxmaj paxton does a nice job and shows a knack for effective directorial flourishes ( i loved the rain - soaked montage of the action on day two of the open ) that propel the plot further or add some unexpected psychological depth to the proceedings . xxmaj there 's some compelling character development when the xxmaj british xxmaj harry xxmaj xxunk is haunted by images of the aristocrats in black suits and top hats who destroyed his family cottage as a child to make way for a golf course . xxmaj he also does a good job of visually depicting what goes on in the players ' heads under pressure . xxmaj golf , a painfully boring sport , is brought vividly alive here . xxmaj credit should also be given the set designers and costume department for creating an engaging period - piece atmosphere of xxmaj london and xxmaj boston at the beginning of the twentieth century . xxmaj you know how this is going to end not only because it 's based on a true story but also because films in this genre follow the same template over and over , but xxmaj paxton puts on a better than average show and perhaps indicates more talent behind the camera than he ever had in front of it . xxmaj despite the formulaic nature , this is a nice and easy film to root for that deserves to find an audience .,xxbos xxmaj as a recreational golfer with some knowledge of the sport 's history , i was pleased with xxmaj disney 's sensitivity to the issues of class in golf in the early twentieth century . xxmaj the movie depicted well the psychological battles that xxmaj harry xxmaj xxunk fought within himself , from his childhood trauma of being evicted to his own inability to break that glass ceiling that prevents him from being accepted as an equal in xxmaj english golf society . xxmaj likewise , the young xxmaj xxunk goes through his own class struggles , being a mere caddie in the eyes of the upper crust xxmaj americans who scoff at his attempts to rise above his standing . xxmaj what i loved best , however , is how this theme of class is manifested in the characters of xxmaj xxunk 's parents . xxmaj his father is a working - class drone who sees the value of hard work but is intimidated by the upper class ; his mother , however , recognizes her son 's talent and desire and encourages him to pursue his dream of competing against those who think he is inferior . xxmaj finally , the golf scenes are well photographed . xxmaj although the course used in the movie was not the actual site of the historical tournament , the little liberties taken by xxmaj disney do not detract from the beauty of the film . xxmaj there 's one little xxmaj disney moment at the pool table ; otherwise , the viewer does not really think xxmaj disney . xxmaj the ending , as in \" xxmaj miracle , \" is not some xxmaj disney creation , but one that only human history could have written .,xxbos i saw this film in a sneak preview , and it is delightful . xxmaj the cinematography is unusually creative , the acting is good , and the story is fabulous . xxmaj if this movie does not do well , it wo n't be because it does n't deserve to . xxmaj before this film , i did n't realize how charming xxmaj shia xxmaj xxunk could be . xxmaj he does a marvelous , self - contained , job as the lead . xxmaj there 's something incredibly sweet about him , and it makes the movie even better . xxmaj the other actors do a good job as well , and the film contains moments of really high suspense , more than one might expect from a movie about golf . xxmaj sports movies are a dime a dozen , but this one stands out . xxmaj this is one i 'd recommend to anyone .,xxbos xxmaj bill xxmaj paxton has taken the true story of the 1913 xxup us golf open and made a film that is about much more than an extra - ordinary game of golf . xxmaj the film also deals directly with the class tensions of the early twentieth century and touches upon the profound anti - xxmaj catholic prejudices of both the xxmaj british and xxmaj american establishments . xxmaj but at heart the film is about that perennial favourite of triumph against the odds . xxmaj the acting is exemplary throughout . xxmaj stephen xxmaj xxunk is excellent as usual , but the revelation of the movie is xxmaj shia xxunk who delivers a disciplined , dignified and highly sympathetic performance as a working class xxmaj franco - xxmaj irish kid fighting his way through the prejudices of the xxmaj new xxmaj england xxup wasp establishment . xxmaj for those who are only familiar with his slap - stick performances in \" xxmaj even xxmaj stevens \" this demonstration of his maturity is a delightful surprise . xxmaj and xxmaj josh xxmaj flitter as the ten year old caddy threatens to steal every scene in which he appears . a old fashioned movie in the best sense of the word : fine acting , clear directing and a great story that grips to the end - the final scene an affectionate nod to xxmaj casablanca is just one of the many pleasures that fill a great movie .\n",
              "y: EmptyLabelList\n",
              ",,,,\n",
              "Path: /content/drive/My Drive/DATA-475/imdb, model=SequentialRNN(\n",
              "  (0): MultiBatchEncoder(\n",
              "    (module): AWD_LSTM(\n",
              "      (encoder): Embedding(44072, 400, padding_idx=1)\n",
              "      (encoder_dp): EmbeddingDropout(\n",
              "        (emb): Embedding(44072, 400, padding_idx=1)\n",
              "      )\n",
              "      (rnns): ModuleList(\n",
              "        (0): WeightDropout(\n",
              "          (module): LSTM(400, 1152, batch_first=True)\n",
              "        )\n",
              "        (1): WeightDropout(\n",
              "          (module): LSTM(1152, 1152, batch_first=True)\n",
              "        )\n",
              "        (2): WeightDropout(\n",
              "          (module): LSTM(1152, 400, batch_first=True)\n",
              "        )\n",
              "      )\n",
              "      (input_dp): RNNDropout()\n",
              "      (hidden_dps): ModuleList(\n",
              "        (0): RNNDropout()\n",
              "        (1): RNNDropout()\n",
              "        (2): RNNDropout()\n",
              "      )\n",
              "    )\n",
              "  )\n",
              "  (1): PoolingLinearClassifier(\n",
              "    (layers): Sequential(\n",
              "      (0): BatchNorm1d(1200, eps=1e-05, momentum=0.1, affine=True, track_running_stats=True)\n",
              "      (1): Dropout(p=0.2, inplace=False)\n",
              "      (2): Linear(in_features=1200, out_features=50, bias=True)\n",
              "      (3): ReLU(inplace=True)\n",
              "      (4): BatchNorm1d(50, eps=1e-05, momentum=0.1, affine=True, track_running_stats=True)\n",
              "      (5): Dropout(p=0.1, inplace=False)\n",
              "      (6): Linear(in_features=50, out_features=2, bias=True)\n",
              "    )\n",
              "  )\n",
              "), opt_func=functools.partial(<class 'torch.optim.adam.Adam'>, betas=(0.9, 0.99)), loss_func=FlattenedLoss of CrossEntropyLoss(), metrics=[<function accuracy at 0x7f50ff7e0840>], true_wd=True, bn_wd=True, wd=0.01, train_bn=True, path=PosixPath('/content/drive/My Drive/DATA-475/imdb'), model_dir='models', callback_fns=[functools.partial(<class 'fastai.basic_train.Recorder'>, add_time=True, silent=False)], callbacks=[...], layer_groups=[Sequential(\n",
              "  (0): Embedding(44072, 400, padding_idx=1)\n",
              "  (1): EmbeddingDropout(\n",
              "    (emb): Embedding(44072, 400, padding_idx=1)\n",
              "  )\n",
              "), Sequential(\n",
              "  (0): WeightDropout(\n",
              "    (module): LSTM(400, 1152, batch_first=True)\n",
              "  )\n",
              "  (1): RNNDropout()\n",
              "), Sequential(\n",
              "  (0): WeightDropout(\n",
              "    (module): LSTM(1152, 1152, batch_first=True)\n",
              "  )\n",
              "  (1): RNNDropout()\n",
              "), Sequential(\n",
              "  (0): WeightDropout(\n",
              "    (module): LSTM(1152, 400, batch_first=True)\n",
              "  )\n",
              "  (1): RNNDropout()\n",
              "), Sequential(\n",
              "  (0): PoolingLinearClassifier(\n",
              "    (layers): Sequential(\n",
              "      (0): BatchNorm1d(1200, eps=1e-05, momentum=0.1, affine=True, track_running_stats=True)\n",
              "      (1): Dropout(p=0.2, inplace=False)\n",
              "      (2): Linear(in_features=1200, out_features=50, bias=True)\n",
              "      (3): ReLU(inplace=True)\n",
              "      (4): BatchNorm1d(50, eps=1e-05, momentum=0.1, affine=True, track_running_stats=True)\n",
              "      (5): Dropout(p=0.1, inplace=False)\n",
              "      (6): Linear(in_features=50, out_features=2, bias=True)\n",
              "    )\n",
              "  )\n",
              ")], add_time=True, silent=False)\n",
              "alpha: 2.0\n",
              "beta: 1.0], layer_groups=[Sequential(\n",
              "  (0): Embedding(44072, 400, padding_idx=1)\n",
              "  (1): EmbeddingDropout(\n",
              "    (emb): Embedding(44072, 400, padding_idx=1)\n",
              "  )\n",
              "), Sequential(\n",
              "  (0): WeightDropout(\n",
              "    (module): LSTM(400, 1152, batch_first=True)\n",
              "  )\n",
              "  (1): RNNDropout()\n",
              "), Sequential(\n",
              "  (0): WeightDropout(\n",
              "    (module): LSTM(1152, 1152, batch_first=True)\n",
              "  )\n",
              "  (1): RNNDropout()\n",
              "), Sequential(\n",
              "  (0): WeightDropout(\n",
              "    (module): LSTM(1152, 400, batch_first=True)\n",
              "  )\n",
              "  (1): RNNDropout()\n",
              "), Sequential(\n",
              "  (0): PoolingLinearClassifier(\n",
              "    (layers): Sequential(\n",
              "      (0): BatchNorm1d(1200, eps=1e-05, momentum=0.1, affine=True, track_running_stats=True)\n",
              "      (1): Dropout(p=0.2, inplace=False)\n",
              "      (2): Linear(in_features=1200, out_features=50, bias=True)\n",
              "      (3): ReLU(inplace=True)\n",
              "      (4): BatchNorm1d(50, eps=1e-05, momentum=0.1, affine=True, track_running_stats=True)\n",
              "      (5): Dropout(p=0.1, inplace=False)\n",
              "      (6): Linear(in_features=50, out_features=2, bias=True)\n",
              "    )\n",
              "  )\n",
              ")], add_time=True, silent=False)"
            ]
          },
          "metadata": {
            "tags": []
          },
          "execution_count": 14
        }
      ]
    },
    {
      "cell_type": "code",
      "metadata": {
        "id": "mLL6cVkhOmT4",
        "colab_type": "code",
        "colab": {
          "base_uri": "https://localhost:8080/",
          "height": 408
        },
        "outputId": "aff4b1dc-0103-4ff6-a970-78ce06e9eadc"
      },
      "source": [
        "# tune the text_classifier_learner to accpetable accuracy (>80%)\n",
        "clas_learner.lr_find()\n",
        "clas_learner.recorder.plot(suggestion=True)\n",
        "# lr = clas_learner.recorder.min_grad_lr\n",
        "# clas_learner.fit_one_cycle(4, lr)"
      ],
      "execution_count": null,
      "outputs": [
        {
          "output_type": "display_data",
          "data": {
            "text/html": [
              "\n",
              "    <div>\n",
              "        <style>\n",
              "            /* Turns off some styling */\n",
              "            progress {\n",
              "                /* gets rid of default border in Firefox and Opera. */\n",
              "                border: none;\n",
              "                /* Needs to be in here for Safari polyfill so background images work as expected. */\n",
              "                background-size: auto;\n",
              "            }\n",
              "            .progress-bar-interrupted, .progress-bar-interrupted::-webkit-progress-bar {\n",
              "                background: #F44336;\n",
              "            }\n",
              "        </style>\n",
              "      <progress value='0' class='' max='1' style='width:300px; height:20px; vertical-align: middle;'></progress>\n",
              "      0.00% [0/1 00:00<00:00]\n",
              "    </div>\n",
              "    \n",
              "<table border=\"1\" class=\"dataframe\">\n",
              "  <thead>\n",
              "    <tr style=\"text-align: left;\">\n",
              "      <th>epoch</th>\n",
              "      <th>train_loss</th>\n",
              "      <th>valid_loss</th>\n",
              "      <th>accuracy</th>\n",
              "      <th>time</th>\n",
              "    </tr>\n",
              "  </thead>\n",
              "  <tbody>\n",
              "  </tbody>\n",
              "</table><p>\n",
              "\n",
              "    <div>\n",
              "        <style>\n",
              "            /* Turns off some styling */\n",
              "            progress {\n",
              "                /* gets rid of default border in Firefox and Opera. */\n",
              "                border: none;\n",
              "                /* Needs to be in here for Safari polyfill so background images work as expected. */\n",
              "                background-size: auto;\n",
              "            }\n",
              "            .progress-bar-interrupted, .progress-bar-interrupted::-webkit-progress-bar {\n",
              "                background: #F44336;\n",
              "            }\n",
              "        </style>\n",
              "      <progress value='95' class='' max='624' style='width:300px; height:20px; vertical-align: middle;'></progress>\n",
              "      15.22% [95/624 00:21<02:00 2.3468]\n",
              "    </div>\n",
              "    "
            ],
            "text/plain": [
              "<IPython.core.display.HTML object>"
            ]
          },
          "metadata": {
            "tags": []
          }
        },
        {
          "output_type": "stream",
          "text": [
            "LR Finder is complete, type {learner_name}.recorder.plot() to see the graph.\n",
            "Min numerical gradient: 6.31E-07\n",
            "Min loss divided by 10: 2.51E-02\n"
          ],
          "name": "stdout"
        },
        {
          "output_type": "display_data",
          "data": {
            "image/png": "[encoded data removed]",
            "text/plain": [
              "<Figure size 432x288 with 1 Axes>"
            ]
          },
          "metadata": {
            "tags": [],
            "needs_background": "light"
          }
        }
      ]
    },
    {
      "cell_type": "code",
      "metadata": {
        "id": "9gIpY9wxY9w8",
        "colab_type": "code",
        "colab": {
          "base_uri": "https://localhost:8080/",
          "height": 166
        },
        "outputId": "61393549-72ba-4daf-8f24-7925a19d34e3"
      },
      "source": [
        "lr = clas_learner.recorder.min_grad_lr\n",
        "clas_learner.fit_one_cycle(4, lr)"
      ],
      "execution_count": null,
      "outputs": [
        {
          "output_type": "display_data",
          "data": {
            "text/html": [
              "<table border=\"1\" class=\"dataframe\">\n",
              "  <thead>\n",
              "    <tr style=\"text-align: left;\">\n",
              "      <th>epoch</th>\n",
              "      <th>train_loss</th>\n",
              "      <th>valid_loss</th>\n",
              "      <th>accuracy</th>\n",
              "      <th>time</th>\n",
              "    </tr>\n",
              "  </thead>\n",
              "  <tbody>\n",
              "    <tr>\n",
              "      <td>0</td>\n",
              "      <td>0.755121</td>\n",
              "      <td>0.718399</td>\n",
              "      <td>0.546891</td>\n",
              "      <td>02:41</td>\n",
              "    </tr>\n",
              "    <tr>\n",
              "      <td>1</td>\n",
              "      <td>0.736252</td>\n",
              "      <td>0.695773</td>\n",
              "      <td>0.570886</td>\n",
              "      <td>02:30</td>\n",
              "    </tr>\n",
              "    <tr>\n",
              "      <td>2</td>\n",
              "      <td>0.709124</td>\n",
              "      <td>0.680813</td>\n",
              "      <td>0.586683</td>\n",
              "      <td>02:30</td>\n",
              "    </tr>\n",
              "    <tr>\n",
              "      <td>3</td>\n",
              "      <td>0.710604</td>\n",
              "      <td>0.673737</td>\n",
              "      <td>0.590482</td>\n",
              "      <td>02:31</td>\n",
              "    </tr>\n",
              "  </tbody>\n",
              "</table>"
            ],
            "text/plain": [
              "<IPython.core.display.HTML object>"
            ]
          },
          "metadata": {
            "tags": []
          }
        }
      ]
    },
    {
      "cell_type": "code",
      "metadata": {
        "id": "6VHA0eRISBbF",
        "colab_type": "code",
        "colab": {
          "base_uri": "https://localhost:8080/",
          "height": 118
        },
        "outputId": "a0aebfc3-a629-49e8-ef3a-7821a5b75ab3"
      },
      "source": [
        "clas_learner.predict(\"This is a horrible movie\")"
      ],
      "execution_count": null,
      "outputs": [
        {
          "output_type": "stream",
          "text": [
            "/usr/local/lib/python3.6/dist-packages/fastai/text/data.py:339: UserWarning: This overload of nonzero is deprecated:\n",
            "\tnonzero()\n",
            "Consider using one of the following signatures instead:\n",
            "\tnonzero(*, bool as_tuple) (Triggered internally at  /pytorch/torch/csrc/utils/python_arg_parser.cpp:766.)\n",
            "  idx_min = (t != self.pad_idx).nonzero().min()\n"
          ],
          "name": "stderr"
        },
        {
          "output_type": "execute_result",
          "data": {
            "text/plain": [
              "(Category tensor(0), tensor(0), tensor([0.8772, 0.1228]))"
            ]
          },
          "metadata": {
            "tags": []
          },
          "execution_count": 17
        }
      ]
    },
    {
      "cell_type": "code",
      "metadata": {
        "id": "CXgIKlWb-Q8D",
        "colab_type": "code",
        "colab": {
          "base_uri": "https://localhost:8080/",
          "height": 34
        },
        "outputId": "c57427e3-967d-48f7-ddae-1ed7138baad6"
      },
      "source": [
        "clas_learner.predict(\"This is a great movie,\")"
      ],
      "execution_count": null,
      "outputs": [
        {
          "output_type": "execute_result",
          "data": {
            "text/plain": [
              "(Category tensor(0), tensor(0), tensor([0.6051, 0.3949]))"
            ]
          },
          "metadata": {
            "tags": []
          },
          "execution_count": 18
        }
      ]
    },
    {
      "cell_type": "code",
      "metadata": {
        "id": "mazhyIrA-R0m",
        "colab_type": "code",
        "colab": {
          "base_uri": "https://localhost:8080/",
          "height": 34
        },
        "outputId": "b4f0b112-d91e-4377-899a-fd43eda9b211"
      },
      "source": [
        "# Check the label mapping\n",
        "# suppose it returns {'negative': 0, 'positive': 1}\n",
        "data_clas.train_ds.y.c2i"
      ],
      "execution_count": null,
      "outputs": [
        {
          "output_type": "execute_result",
          "data": {
            "text/plain": [
              "{'negative': 0, 'positive': 1}"
            ]
          },
          "metadata": {
            "tags": []
          },
          "execution_count": 19
        }
      ]
    },
    {
      "cell_type": "code",
      "metadata": {
        "id": "-YRl2rhMPvuW",
        "colab_type": "code",
        "colab": {}
      },
      "source": [
        "import pandas as pd\n",
        "\n",
        "\n",
        "df = pd.read_csv(path+\"/test.csv\")\n",
        "y_true = tensor(df[\"sentiment\"]==\"positive\")"
      ],
      "execution_count": null,
      "outputs": []
    },
    {
      "cell_type": "code",
      "metadata": {
        "id": "8DgzM_y9aJrZ",
        "colab_type": "code",
        "colab": {
          "base_uri": "https://localhost:8080/",
          "height": 34
        },
        "outputId": "0d2970b3-3142-46ba-f52e-0a7dbec1e3b1"
      },
      "source": [
        "y_true"
      ],
      "execution_count": null,
      "outputs": [
        {
          "output_type": "execute_result",
          "data": {
            "text/plain": [
              "tensor([ True,  True,  True,  ..., False, False, False])"
            ]
          },
          "metadata": {
            "tags": []
          },
          "execution_count": 21
        }
      ]
    },
    {
      "cell_type": "code",
      "metadata": {
        "id": "oRekyOZ-1qQ1",
        "colab_type": "code",
        "colab": {
          "base_uri": "https://localhost:8080/",
          "height": 311
        },
        "outputId": "343defc8-f673-4873-fefe-01e291cc6d83"
      },
      "source": [
        "interp = TextClassificationInterpretation.from_learner(\n",
        "    clas_learner, \n",
        "    ds_type=DatasetType.Test\n",
        ")\n",
        "interp.y_true = tensor(df[\"sentiment\"]==\"positive\")\n",
        "interp.plot_confusion_matrix()"
      ],
      "execution_count": null,
      "outputs": [
        {
          "output_type": "display_data",
          "data": {
            "text/html": [
              ""
            ],
            "text/plain": [
              "<IPython.core.display.HTML object>"
            ]
          },
          "metadata": {
            "tags": []
          }
        },
        {
          "output_type": "display_data",
          "data": {
            "image/png": "[encoded data removed]",
            "text/plain": [
              "<Figure size 432x288 with 1 Axes>"
            ]
          },
          "metadata": {
            "tags": [],
            "needs_background": "light"
          }
        }
      ]
    },
    {
      "cell_type": "code",
      "metadata": {
        "id": "Ov9w-uNT8Ldd",
        "colab_type": "code",
        "colab": {
          "base_uri": "https://localhost:8080/",
          "height": 34
        },
        "outputId": "482ef1e6-75cc-4710-9bdf-ddb4873b838a"
      },
      "source": [
        "from fastai.metrics import accuracy\n",
        "\n",
        "accuracy(interp.preds, interp.y_true)"
      ],
      "execution_count": null,
      "outputs": [
        {
          "output_type": "execute_result",
          "data": {
            "text/plain": [
              "tensor(0.5942)"
            ]
          },
          "metadata": {
            "tags": []
          },
          "execution_count": 23
        }
      ]
    }
  ]
}